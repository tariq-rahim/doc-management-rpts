{
 "cells": [
  {
   "cell_type": "code",
   "execution_count": 1,
   "metadata": {},
   "outputs": [],
   "source": [
    "import glob\n",
    "import pandas as pd\n",
    "from datetime import datetime, timedelta"
   ]
  },
  {
   "cell_type": "code",
   "execution_count": 2,
   "metadata": {},
   "outputs": [],
   "source": [
    "\n",
    "files = glob.glob('*/**/*.xlsx',recursive=True)\n",
    "survey_form_files = [file for file in files if 'Survey Form' in file]\n"
   ]
  },
  {
   "cell_type": "code",
   "execution_count": 3,
   "metadata": {},
   "outputs": [
    {
     "name": "stdout",
     "output_type": "stream",
     "text": [
      ">>>>>>>>>>>>>>>>>> DI Khan\\roads\\Distry 19 village Lunda Para\\segments\\Segment 01\\Survey Form Segment 01.xlsx\n"
     ]
    }
   ],
   "source": [
    "s_form_name_date = []\n",
    "for file in survey_form_files:\n",
    "    s_form = pd.read_excel(file, header=None)\n",
    "    s_form = s_form.T\n",
    "    date= s_form[4][1]\n",
    "    date = date.split(' ')\n",
    "    # print(date)\n",
    "    if int(date[0][:2]) >= 5 and date[1] == 'June,':\n",
    "        print('>>>>>>>>>>>>>>>>>>',file)\n",
    "        s_form_name_date.append({'File': file, 'Date': date})\n",
    "    "
   ]
  },
  {
   "cell_type": "code",
   "execution_count": 4,
   "metadata": {},
   "outputs": [
    {
     "name": "stdout",
     "output_type": "stream",
     "text": [
      "Done\n"
     ]
    }
   ],
   "source": [
    "df = pd.DataFrame(s_form_name_date)\n",
    "output_csv_file = 'survey_form_dates.csv'\n",
    "df.to_csv(output_csv_file, index=False)\n",
    "print('Done')"
   ]
  },
  {
   "cell_type": "code",
   "execution_count": null,
   "metadata": {},
   "outputs": [],
   "source": []
  }
 ],
 "metadata": {
  "kernelspec": {
   "display_name": "dll",
   "language": "python",
   "name": "python3"
  },
  "language_info": {
   "codemirror_mode": {
    "name": "ipython",
    "version": 3
   },
   "file_extension": ".py",
   "mimetype": "text/x-python",
   "name": "python",
   "nbconvert_exporter": "python",
   "pygments_lexer": "ipython3",
   "version": "3.12.4"
  }
 },
 "nbformat": 4,
 "nbformat_minor": 2
}
