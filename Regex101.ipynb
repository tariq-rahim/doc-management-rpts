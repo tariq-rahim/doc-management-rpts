{
 "cells": [
  {
   "cell_type": "code",
   "execution_count": null,
   "metadata": {},
   "outputs": [],
   "source": [
    "import re"
   ]
  },
  {
   "cell_type": "code",
   "execution_count": null,
   "metadata": {},
   "outputs": [],
   "source": [
    "text = \"\"\"Elon Reeve Musk FRS is a businessman and investor known for his key roles in the space company SpaceX and the automotive company Tesla, Inc. Wikipedia Height: 3.55 m\n",
    "Born: June 28, 1971 (age 53 years), Pretoria, South Africa\n",
    "Children: Vivian Jenna Wilson, Tau Techno Mechanicus Musk, MORE\n",
    "Net worth: 244.8 billion USD (2024) Forbes Height: 1.89 m\n",
    "Spouse: Talulah Riley (m. 2013–2016), Talulah Riley (m. 2010–2012), Justine Musk (m. 2000–2008)\n",
    "Education: Penn Arts & Sciences (1997), Wharton School (1997), MORE\n",
    "Parents: Errol Musk, Maye Musk\n",
    "Height: 1.88 m\"\"\""
   ]
  },
  {
   "cell_type": "code",
   "execution_count": null,
   "metadata": {},
   "outputs": [],
   "source": [
    "# pattern = 'Born: [a-zA-Z].*'\n",
    "# pattern = r'Born:\\s[A-Z][a-z]+\\s\\d{1,2},\\s\\d{4}'\n",
    "# pattern = r'Height:\\s+\\d{1,2}\\.\\d{1,2}\\s[mM]'\n",
    "pattern = r'\\(m\\. \\d{4}–\\d{4}\\)'\n",
    "# \\(m\\. \\d{4}–\\d{4}\\)\n",
    "\n",
    "dob = re.findall(pattern,text)"
   ]
  },
  {
   "cell_type": "code",
   "execution_count": null,
   "metadata": {},
   "outputs": [],
   "source": [
    "dob"
   ]
  },
  {
   "cell_type": "code",
   "execution_count": null,
   "metadata": {},
   "outputs": [],
   "source": [
    "employees = {\n",
    "    \"E001\": {\n",
    "        \"name\": \"Alice Johnson\",\n",
    "        \"age\": 29,\n",
    "        \"department\": \"Marketing\",\n",
    "        \"position\": \"Manager\",\n",
    "        \"contact\": {\n",
    "            \"email\": \"alice.johnson@example.com\",\n",
    "            \"phone\": \"555-1234\"\n",
    "        }}}"
   ]
  },
  {
   "cell_type": "code",
   "execution_count": null,
   "metadata": {},
   "outputs": [],
   "source": [
    "for emp_id, emp_details in employees.items():\n",
    "    print(f\"Employee ID: {emp_id}\")\n",
    "    for key in emp_details:\n",
    "        if key == \"contact\":\n",
    "            print(\"Contact Details:\")\n",
    "            for k, v in emp_details[key].items():\n",
    "                print(f\"\\t{k.capitalize()}: {v}\")\n",
    "        else:\n",
    "            print(f\"{key.capitalize()}: {emp_details[key]}\")"
   ]
  },
  {
   "cell_type": "code",
   "execution_count": 15,
   "metadata": {},
   "outputs": [
    {
     "name": "stdout",
     "output_type": "stream",
     "text": [
      "<<<< Road Name >>>> Ashukhel To Bora RD,>>>>>>>>>>>>>>>>   ERROR >>>> Structural Overlay Rehabilitation (Without Raising)\n",
      "<<<< Road Name >>>> Ashukhel To Bora RD,>>>>>>>>>>>>>>>>   ERROR >>>> Structural Overlay Rehabilitation (Without Raising)\n",
      "<<<< Road Name >>>> Ashukhel To Bora RD,>>>>>>>>>>>>>>>>   ERROR >>>> Structural Overlay Rehabilitation (Without Raising)\n",
      "<<<< Road Name >>>> C Fort Maxon To Faridi RD,>>>>>>>>>>>>>>>>   ERROR >>>> Structural Overlay Rehabilitation (Without Raising)\n",
      "<<<< Road Name >>>> C Fort Maxon To Faridi RD,>>>>>>>>>>>>>>>>   ERROR >>>> Structural Overlay Rehabilitation (Without Raising)\n",
      "<<<< Road Name >>>> C Fort Maxon To Faridi RD,>>>>>>>>>>>>>>>>   ERROR >>>> Structural Overlay Rehabilitation (Without Raising)\n",
      "<<<< Road Name >>>> Gorgurai To Reedaman Killi,>>>>>>>>>>>>>>>>   ERROR >>>>  Structural Overlay Rehabilitation (Without Raising)\n",
      "<<<< Road Name >>>> Jani garhi rd,>>>>>>>>>>>>>>>>   ERROR >>>> Structural Overlay (With Drainage)\n",
      "<<<< Road Name >>>> Jani garhi rd,>>>>>>>>>>>>>>>>   ERROR >>>> Structural Overlay (With Drainage)\n",
      "<<<< Road Name >>>> Jani garhi rd,>>>>>>>>>>>>>>>>   ERROR >>>> Structural Overlay (With Drainage)\n",
      "<<<< Road Name >>>> Jani garhi rd,>>>>>>>>>>>>>>>>   ERROR >>>> Structural Overlay (With Drainage)\n",
      "<<<< Road Name >>>> Jani garhi rd,>>>>>>>>>>>>>>>>   ERROR >>>> Structural Overlay (With Drainage)\n",
      "<<<< Road Name >>>> Jani garhi rd,>>>>>>>>>>>>>>>>   ERROR >>>> Structural Overlay (With Drainage)\n",
      "<<<< Road Name >>>> Misri Khel RD,>>>>>>>>>>>>>>>>   ERROR >>>> Structural Overlay (Recondioning)\n",
      "<<<< Road Name >>>> Misri Khel RD,>>>>>>>>>>>>>>>>   ERROR >>>> Structural Overlay (Recondioning)\n",
      "<<<< Road Name >>>> Misri Khel RD,>>>>>>>>>>>>>>>>   ERROR >>>> Structural Overlay (Recondioning)\n",
      "<<<< Road Name >>>> Misri Khel RD,>>>>>>>>>>>>>>>>   ERROR >>>> Routine Maintainence\n",
      "<<<< Road Name >>>> Misri Khel RD,>>>>>>>>>>>>>>>>   ERROR >>>> Routine Maintainence\n",
      "<<<< Road Name >>>> Misri Khel RD,>>>>>>>>>>>>>>>>   ERROR >>>> Routine Maintainence\n",
      "<<<< Road Name >>>> Misri Khel RD,>>>>>>>>>>>>>>>>   ERROR >>>> Routine Maintainence\n",
      "<<<< Road Name >>>> Misri Khel RD,>>>>>>>>>>>>>>>>   ERROR >>>> Routine Maintainence\n",
      "<<<< Road Name >>>> Misri Khel RD,>>>>>>>>>>>>>>>>   ERROR >>>> Routine Maintainence\n",
      "<<<< Road Name >>>> Passani Morh To AliKhel,>>>>>>>>>>>>>>>>   ERROR >>>> Structural Overlay (Reconditoning)\n",
      "<<<< Road Name >>>> Passani Morh To AliKhel,>>>>>>>>>>>>>>>>   ERROR >>>> Structural Overlay (Reconditoning)\n",
      "<<<< Road Name >>>> Peshawar bara road (Side A),>>>>>>>>>>>>>>>>   ERROR >>>> Structural Overlay (Recondtioning)\n",
      "<<<< Road Name >>>> Peshawar bara road (Side A),>>>>>>>>>>>>>>>>   ERROR >>>> Structural Overlay (Recondtioning)\n",
      "<<<< Road Name >>>> Phandu Rd to shamshatoo RD,>>>>>>>>>>>>>>>>   ERROR >>>> Structural Overlay Rehabilitation (Without Raising)\n",
      "<<<< Road Name >>>> Phandu Rd to shamshatoo RD,>>>>>>>>>>>>>>>>   ERROR >>>> Structural Overlay Rehabilitation (Without Raising)\n",
      "<<<< Road Name >>>> Phandu Rd to shamshatoo RD,>>>>>>>>>>>>>>>>   ERROR >>>> Structural Overlay Rehabilitation (Without Raising)\n",
      "<<<< Road Name >>>> Phandu Rd to shamshatoo RD,>>>>>>>>>>>>>>>>   ERROR >>>> Structural Overlay (Rehabiliation)\n",
      "<<<< Road Name >>>> Phandu Rd to shamshatoo RD,>>>>>>>>>>>>>>>>   ERROR >>>> Structural Overlay (Rehabiliation)\n",
      "<<<< Road Name >>>> Phandu Rd to shamshatoo RD,>>>>>>>>>>>>>>>>   ERROR >>>> Structural Overlay (Rehabiliation)\n",
      "<<<< Road Name >>>> Road from zargar abad chock upto shad bagh colony UC22 yakatoot II,>>>>>>>>>>>>>>>>   ERROR >>>> Structural Overlay Rehabilitation (Without Raising)\n",
      "<<<< Road Name >>>> Road from zargar abad chock upto shad bagh colony UC22 yakatoot II,>>>>>>>>>>>>>>>>   ERROR >>>> Structural Overlay Rehabilitation (Without Raising)\n",
      "<<<< Road Name >>>> Sherekera Kohi Hassan Khel RD Bochin Khel RD,>>>>>>>>>>>>>>>>   ERROR >>>> Structural Overlay (Recondtioning)\n",
      "<<<< Road Name >>>> Sherekera Kohi Hassan Khel RD Bochin Khel RD,>>>>>>>>>>>>>>>>   ERROR >>>> Structural Overlay (Recondtioning)\n",
      "<<<< Road Name >>>> Sherekera Kohi Hassan Khel RD Bochin Khel RD,>>>>>>>>>>>>>>>>   ERROR >>>> Structural Overlay (Recondtioning)\n",
      "<<<< Road Name >>>> Sherekera Kohi Hassan Khel RD Bochin Khel RD,>>>>>>>>>>>>>>>>   ERROR >>>> Structural Overlay (Recondtioning)\n",
      "<<<< Road Name >>>> Sherekera Kohi Hassan Khel RD Bochin Khel RD,>>>>>>>>>>>>>>>>   ERROR >>>> Structural Overlay (Recondtioning)\n",
      "<<<< Road Name >>>> Sherekera Kohi Hassan Khel RD Bochin Khel RD,>>>>>>>>>>>>>>>>   ERROR >>>> Structural Overlay (Recondtioning)\n",
      "<<<< Road Name >>>> Sherekera Kohi Hassan Khel RD Bochin Khel RD,>>>>>>>>>>>>>>>>   ERROR >>>> Structural Overlay (Recondtioning)\n",
      "<<<< Road Name >>>> Sherekera Kohi Hassan Khel RD Bochin Khel RD,>>>>>>>>>>>>>>>>   ERROR >>>> Structural Overlay (Recondtioning)\n",
      "<<<< Road Name >>>> Sobbni Killi To wahid killi RD,>>>>>>>>>>>>>>>>   ERROR >>>> Structural Overlay (Recondtioning)\n",
      "<<<< Road Name >>>> Sobbni Killi To wahid killi RD,>>>>>>>>>>>>>>>>   ERROR >>>> Structural Overlay (Recondtioning)\n",
      "<<<< Road Name >>>> Sobbni Killi To wahid killi RD,>>>>>>>>>>>>>>>>   ERROR >>>> Routine Maintinace\n",
      "<<<< Road Name >>>> Sobbni Killi To wahid killi RD,>>>>>>>>>>>>>>>>   ERROR >>>> Routine Maintinace\n",
      "<<<< Road Name >>>> Sobbni Killi To wahid killi RD,>>>>>>>>>>>>>>>>   ERROR >>>> Routine Maintinace\n",
      "<<<< Road Name >>>> Sobbni Killi To wahid killi RD,>>>>>>>>>>>>>>>>   ERROR >>>> Routine Maintinace\n",
      "<<<< Road Name >>>> Sobbni Killi To wahid killi RD,>>>>>>>>>>>>>>>>   ERROR >>>> Routine Maintinace\n",
      "<<<< Road Name >>>> Superior science college road upto rasheed gahri chowk UC21 yakatoot II,>>>>>>>>>>>>>>>>   ERROR >>>> Routine Maintance\n",
      "<<<< Road Name >>>> Tela Band main Rd,>>>>>>>>>>>>>>>>   ERROR >>>> Structural Overlay (Recondtioning)\n",
      "<<<< Road Name >>>> Tela Band main Rd,>>>>>>>>>>>>>>>>   ERROR >>>> Structural Overlay (Recondtioning)\n",
      "<<<< Road Name >>>> Tela Band main Rd,>>>>>>>>>>>>>>>>   ERROR >>>> Structural Overlay (Recondtioning)\n",
      "<<<< Road Name >>>> Tela Band main Rd,>>>>>>>>>>>>>>>>   ERROR >>>> Structural Overlay (Recondtioning)\n",
      "<<<< Road Name >>>> Tela Band main Rd,>>>>>>>>>>>>>>>>   ERROR >>>> Structural Overlay (Recondtioning)\n",
      "<<<< Road Name >>>> Tela Band main Rd,>>>>>>>>>>>>>>>>   ERROR >>>> Structural Overlay (Recondtioning)\n",
      "<<<< Road Name >>>> Tela Band main Rd,>>>>>>>>>>>>>>>>   ERROR >>>> Structural Overlay (Recondtioning)\n",
      "<<<< Road Name >>>> Tela Band main Rd,>>>>>>>>>>>>>>>>   ERROR >>>> Structural Overlay (Recondtioning)\n",
      "<<<< Road Name >>>> Tela Band main Rd,>>>>>>>>>>>>>>>>   ERROR >>>> Structural Overlay (Recondtioning)\n",
      "<<<< Road Name >>>> Tela Band main Rd,>>>>>>>>>>>>>>>>   ERROR >>>> Structural Overlay (Recondtioning)\n"
     ]
    }
   ],
   "source": [
    "import pandas as pd\n",
    "import os,glob\n",
    "path = 'Peshawar Part B' + os.sep\n",
    "files = glob.glob(path + '*.csv')\n",
    "\n",
    "m_strategies = [\"Preservative Maintenance\", \"Routine Maintenance\", \"Resurfacing with DST\",\n",
    "                \"Resurfacing with Sand Asphalt\", \"Functional Overlay\", \"Structural Overlay (Reconditioning)\",\n",
    "                \"Structural Overlay (Rehabilitation)\", \"Structural Overlay Rehabilitation (without raising)\",\n",
    "                \"New Construction for Kacha Road\"]\n",
    "\n",
    "for file in files:\n",
    "    df = pd.read_csv(file)\n",
    "    for strategy in df['Maintenance Strategy']:\n",
    "\n",
    "        if strategy not in m_strategies:\n",
    "            print(f\"<<<< Road Name >>>> {file.split(os.sep)[-1].split('.')[0]},>>>>>>>>>>>>>>>>   ERROR >>>> {strategy}\")\n",
    "\n"
   ]
  },
  {
   "cell_type": "code",
   "execution_count": 17,
   "metadata": {},
   "outputs": [],
   "source": [
    "import spacy\n",
    "nlp = spacy.load('en_core_web_sm')\n",
    "text = \"After the Alaska confrontation between top U.S. and Chinese officials and the slanging match between Presidents Biden@gmail.com and Vladimir Putin, the world is as fraught as ever. The U.S. and China are at loggerheads over Taiwan, the South China Sea, and human rights. The U.S. and Russia are at odds over Ukraine, cyberattacks, and human rights\""
   ]
  },
  {
   "cell_type": "code",
   "execution_count": 21,
   "metadata": {},
   "outputs": [
    {
     "name": "stdout",
     "output_type": "stream",
     "text": [
      "Alaska GPE Countries, cities, states\n",
      "U.S. GPE Countries, cities, states\n",
      "Chinese NORP Nationalities or religious or political groups\n",
      "Vladimir Putin PERSON People, including fictional\n",
      "U.S. GPE Countries, cities, states\n",
      "China GPE Countries, cities, states\n",
      "Taiwan GPE Countries, cities, states\n",
      "the South China Sea LOC Non-GPE locations, mountain ranges, bodies of water\n",
      "U.S. GPE Countries, cities, states\n",
      "Russia GPE Countries, cities, states\n",
      "Ukraine GPE Countries, cities, states\n"
     ]
    }
   ],
   "source": [
    "doc = nlp(text)\n",
    "for ent in doc.ents:\n",
    "    print(ent.text, ent.label_, spacy.explain(ent.label_))\n"
   ]
  },
  {
   "cell_type": "code",
   "execution_count": null,
   "metadata": {},
   "outputs": [],
   "source": []
  },
  {
   "cell_type": "markdown",
   "metadata": {},
   "source": [
    "TEXT CLASSIFICATION"
   ]
  },
  {
   "cell_type": "code",
   "execution_count": 2,
   "metadata": {},
   "outputs": [],
   "source": [
    "import pandas as pd\n",
    "import numpy as np\n",
    "import spacy\n",
    "from spacy import displacy\n",
    "from spacy.util import minibatch, compounding\n",
    "\n",
    "import matplotlib.pyplot as plt\n",
    "%matplotlib inline"
   ]
  },
  {
   "cell_type": "code",
   "execution_count": 3,
   "metadata": {},
   "outputs": [
    {
     "data": {
      "text/plain": [
       "(568454, 10)"
      ]
     },
     "execution_count": 3,
     "metadata": {},
     "output_type": "execute_result"
    }
   ],
   "source": [
    "rv_file = pd.read_csv('Reviews.csv')\n",
    "rv_file.shape"
   ]
  },
  {
   "cell_type": "code",
   "execution_count": 4,
   "metadata": {},
   "outputs": [
    {
     "data": {
      "text/html": [
       "<div>\n",
       "<style scoped>\n",
       "    .dataframe tbody tr th:only-of-type {\n",
       "        vertical-align: middle;\n",
       "    }\n",
       "\n",
       "    .dataframe tbody tr th {\n",
       "        vertical-align: top;\n",
       "    }\n",
       "\n",
       "    .dataframe thead th {\n",
       "        text-align: right;\n",
       "    }\n",
       "</style>\n",
       "<table border=\"1\" class=\"dataframe\">\n",
       "  <thead>\n",
       "    <tr style=\"text-align: right;\">\n",
       "      <th></th>\n",
       "      <th>Id</th>\n",
       "      <th>ProductId</th>\n",
       "      <th>UserId</th>\n",
       "      <th>ProfileName</th>\n",
       "      <th>HelpfulnessNumerator</th>\n",
       "      <th>HelpfulnessDenominator</th>\n",
       "      <th>Score</th>\n",
       "      <th>Time</th>\n",
       "      <th>Summary</th>\n",
       "      <th>Text</th>\n",
       "    </tr>\n",
       "  </thead>\n",
       "  <tbody>\n",
       "    <tr>\n",
       "      <th>0</th>\n",
       "      <td>1</td>\n",
       "      <td>B001E4KFG0</td>\n",
       "      <td>A3SGXH7AUHU8GW</td>\n",
       "      <td>delmartian</td>\n",
       "      <td>1</td>\n",
       "      <td>1</td>\n",
       "      <td>5</td>\n",
       "      <td>1303862400</td>\n",
       "      <td>Good Quality Dog Food</td>\n",
       "      <td>I have bought several of the Vitality canned d...</td>\n",
       "    </tr>\n",
       "    <tr>\n",
       "      <th>1</th>\n",
       "      <td>2</td>\n",
       "      <td>B00813GRG4</td>\n",
       "      <td>A1D87F6ZCVE5NK</td>\n",
       "      <td>dll pa</td>\n",
       "      <td>0</td>\n",
       "      <td>0</td>\n",
       "      <td>1</td>\n",
       "      <td>1346976000</td>\n",
       "      <td>Not as Advertised</td>\n",
       "      <td>Product arrived labeled as Jumbo Salted Peanut...</td>\n",
       "    </tr>\n",
       "    <tr>\n",
       "      <th>2</th>\n",
       "      <td>3</td>\n",
       "      <td>B000LQOCH0</td>\n",
       "      <td>ABXLMWJIXXAIN</td>\n",
       "      <td>Natalia Corres \"Natalia Corres\"</td>\n",
       "      <td>1</td>\n",
       "      <td>1</td>\n",
       "      <td>4</td>\n",
       "      <td>1219017600</td>\n",
       "      <td>\"Delight\" says it all</td>\n",
       "      <td>This is a confection that has been around a fe...</td>\n",
       "    </tr>\n",
       "    <tr>\n",
       "      <th>3</th>\n",
       "      <td>4</td>\n",
       "      <td>B000UA0QIQ</td>\n",
       "      <td>A395BORC6FGVXV</td>\n",
       "      <td>Karl</td>\n",
       "      <td>3</td>\n",
       "      <td>3</td>\n",
       "      <td>2</td>\n",
       "      <td>1307923200</td>\n",
       "      <td>Cough Medicine</td>\n",
       "      <td>If you are looking for the secret ingredient i...</td>\n",
       "    </tr>\n",
       "    <tr>\n",
       "      <th>4</th>\n",
       "      <td>5</td>\n",
       "      <td>B006K2ZZ7K</td>\n",
       "      <td>A1UQRSCLF8GW1T</td>\n",
       "      <td>Michael D. Bigham \"M. Wassir\"</td>\n",
       "      <td>0</td>\n",
       "      <td>0</td>\n",
       "      <td>5</td>\n",
       "      <td>1350777600</td>\n",
       "      <td>Great taffy</td>\n",
       "      <td>Great taffy at a great price.  There was a wid...</td>\n",
       "    </tr>\n",
       "    <tr>\n",
       "      <th>...</th>\n",
       "      <td>...</td>\n",
       "      <td>...</td>\n",
       "      <td>...</td>\n",
       "      <td>...</td>\n",
       "      <td>...</td>\n",
       "      <td>...</td>\n",
       "      <td>...</td>\n",
       "      <td>...</td>\n",
       "      <td>...</td>\n",
       "      <td>...</td>\n",
       "    </tr>\n",
       "    <tr>\n",
       "      <th>568449</th>\n",
       "      <td>568450</td>\n",
       "      <td>B001EO7N10</td>\n",
       "      <td>A28KG5XORO54AY</td>\n",
       "      <td>Lettie D. Carter</td>\n",
       "      <td>0</td>\n",
       "      <td>0</td>\n",
       "      <td>5</td>\n",
       "      <td>1299628800</td>\n",
       "      <td>Will not do without</td>\n",
       "      <td>Great for sesame chicken..this is a good if no...</td>\n",
       "    </tr>\n",
       "    <tr>\n",
       "      <th>568450</th>\n",
       "      <td>568451</td>\n",
       "      <td>B003S1WTCU</td>\n",
       "      <td>A3I8AFVPEE8KI5</td>\n",
       "      <td>R. Sawyer</td>\n",
       "      <td>0</td>\n",
       "      <td>0</td>\n",
       "      <td>2</td>\n",
       "      <td>1331251200</td>\n",
       "      <td>disappointed</td>\n",
       "      <td>I'm disappointed with the flavor. The chocolat...</td>\n",
       "    </tr>\n",
       "    <tr>\n",
       "      <th>568451</th>\n",
       "      <td>568452</td>\n",
       "      <td>B004I613EE</td>\n",
       "      <td>A121AA1GQV751Z</td>\n",
       "      <td>pksd \"pk_007\"</td>\n",
       "      <td>2</td>\n",
       "      <td>2</td>\n",
       "      <td>5</td>\n",
       "      <td>1329782400</td>\n",
       "      <td>Perfect for our maltipoo</td>\n",
       "      <td>These stars are small, so you can give 10-15 o...</td>\n",
       "    </tr>\n",
       "    <tr>\n",
       "      <th>568452</th>\n",
       "      <td>568453</td>\n",
       "      <td>B004I613EE</td>\n",
       "      <td>A3IBEVCTXKNOH</td>\n",
       "      <td>Kathy A. Welch \"katwel\"</td>\n",
       "      <td>1</td>\n",
       "      <td>1</td>\n",
       "      <td>5</td>\n",
       "      <td>1331596800</td>\n",
       "      <td>Favorite Training and reward treat</td>\n",
       "      <td>These are the BEST treats for training and rew...</td>\n",
       "    </tr>\n",
       "    <tr>\n",
       "      <th>568453</th>\n",
       "      <td>568454</td>\n",
       "      <td>B001LR2CU2</td>\n",
       "      <td>A3LGQPJCZVL9UC</td>\n",
       "      <td>srfell17</td>\n",
       "      <td>0</td>\n",
       "      <td>0</td>\n",
       "      <td>5</td>\n",
       "      <td>1338422400</td>\n",
       "      <td>Great Honey</td>\n",
       "      <td>I am very satisfied ,product is as advertised,...</td>\n",
       "    </tr>\n",
       "  </tbody>\n",
       "</table>\n",
       "<p>568454 rows × 10 columns</p>\n",
       "</div>"
      ],
      "text/plain": [
       "            Id   ProductId          UserId                      ProfileName  \\\n",
       "0            1  B001E4KFG0  A3SGXH7AUHU8GW                       delmartian   \n",
       "1            2  B00813GRG4  A1D87F6ZCVE5NK                           dll pa   \n",
       "2            3  B000LQOCH0   ABXLMWJIXXAIN  Natalia Corres \"Natalia Corres\"   \n",
       "3            4  B000UA0QIQ  A395BORC6FGVXV                             Karl   \n",
       "4            5  B006K2ZZ7K  A1UQRSCLF8GW1T    Michael D. Bigham \"M. Wassir\"   \n",
       "...        ...         ...             ...                              ...   \n",
       "568449  568450  B001EO7N10  A28KG5XORO54AY                 Lettie D. Carter   \n",
       "568450  568451  B003S1WTCU  A3I8AFVPEE8KI5                        R. Sawyer   \n",
       "568451  568452  B004I613EE  A121AA1GQV751Z                    pksd \"pk_007\"   \n",
       "568452  568453  B004I613EE   A3IBEVCTXKNOH          Kathy A. Welch \"katwel\"   \n",
       "568453  568454  B001LR2CU2  A3LGQPJCZVL9UC                         srfell17   \n",
       "\n",
       "        HelpfulnessNumerator  HelpfulnessDenominator  Score        Time  \\\n",
       "0                          1                       1      5  1303862400   \n",
       "1                          0                       0      1  1346976000   \n",
       "2                          1                       1      4  1219017600   \n",
       "3                          3                       3      2  1307923200   \n",
       "4                          0                       0      5  1350777600   \n",
       "...                      ...                     ...    ...         ...   \n",
       "568449                     0                       0      5  1299628800   \n",
       "568450                     0                       0      2  1331251200   \n",
       "568451                     2                       2      5  1329782400   \n",
       "568452                     1                       1      5  1331596800   \n",
       "568453                     0                       0      5  1338422400   \n",
       "\n",
       "                                   Summary  \\\n",
       "0                    Good Quality Dog Food   \n",
       "1                        Not as Advertised   \n",
       "2                    \"Delight\" says it all   \n",
       "3                           Cough Medicine   \n",
       "4                              Great taffy   \n",
       "...                                    ...   \n",
       "568449                 Will not do without   \n",
       "568450                        disappointed   \n",
       "568451            Perfect for our maltipoo   \n",
       "568452  Favorite Training and reward treat   \n",
       "568453                         Great Honey   \n",
       "\n",
       "                                                     Text  \n",
       "0       I have bought several of the Vitality canned d...  \n",
       "1       Product arrived labeled as Jumbo Salted Peanut...  \n",
       "2       This is a confection that has been around a fe...  \n",
       "3       If you are looking for the secret ingredient i...  \n",
       "4       Great taffy at a great price.  There was a wid...  \n",
       "...                                                   ...  \n",
       "568449  Great for sesame chicken..this is a good if no...  \n",
       "568450  I'm disappointed with the flavor. The chocolat...  \n",
       "568451  These stars are small, so you can give 10-15 o...  \n",
       "568452  These are the BEST treats for training and rew...  \n",
       "568453  I am very satisfied ,product is as advertised,...  \n",
       "\n",
       "[568454 rows x 10 columns]"
      ]
     },
     "execution_count": 4,
     "metadata": {},
     "output_type": "execute_result"
    }
   ],
   "source": [
    "rv_file"
   ]
  },
  {
   "cell_type": "code",
   "execution_count": 5,
   "metadata": {},
   "outputs": [
    {
     "data": {
      "text/html": [
       "<div>\n",
       "<style scoped>\n",
       "    .dataframe tbody tr th:only-of-type {\n",
       "        vertical-align: middle;\n",
       "    }\n",
       "\n",
       "    .dataframe tbody tr th {\n",
       "        vertical-align: top;\n",
       "    }\n",
       "\n",
       "    .dataframe thead th {\n",
       "        text-align: right;\n",
       "    }\n",
       "</style>\n",
       "<table border=\"1\" class=\"dataframe\">\n",
       "  <thead>\n",
       "    <tr style=\"text-align: right;\">\n",
       "      <th></th>\n",
       "      <th>0</th>\n",
       "      <th>1</th>\n",
       "      <th>2</th>\n",
       "      <th>3</th>\n",
       "      <th>4</th>\n",
       "    </tr>\n",
       "  </thead>\n",
       "  <tbody>\n",
       "    <tr>\n",
       "      <th>Id</th>\n",
       "      <td>1</td>\n",
       "      <td>2</td>\n",
       "      <td>3</td>\n",
       "      <td>4</td>\n",
       "      <td>5</td>\n",
       "    </tr>\n",
       "    <tr>\n",
       "      <th>ProductId</th>\n",
       "      <td>B001E4KFG0</td>\n",
       "      <td>B00813GRG4</td>\n",
       "      <td>B000LQOCH0</td>\n",
       "      <td>B000UA0QIQ</td>\n",
       "      <td>B006K2ZZ7K</td>\n",
       "    </tr>\n",
       "    <tr>\n",
       "      <th>UserId</th>\n",
       "      <td>A3SGXH7AUHU8GW</td>\n",
       "      <td>A1D87F6ZCVE5NK</td>\n",
       "      <td>ABXLMWJIXXAIN</td>\n",
       "      <td>A395BORC6FGVXV</td>\n",
       "      <td>A1UQRSCLF8GW1T</td>\n",
       "    </tr>\n",
       "    <tr>\n",
       "      <th>ProfileName</th>\n",
       "      <td>delmartian</td>\n",
       "      <td>dll pa</td>\n",
       "      <td>Natalia Corres \"Natalia Corres\"</td>\n",
       "      <td>Karl</td>\n",
       "      <td>Michael D. Bigham \"M. Wassir\"</td>\n",
       "    </tr>\n",
       "    <tr>\n",
       "      <th>HelpfulnessNumerator</th>\n",
       "      <td>1</td>\n",
       "      <td>0</td>\n",
       "      <td>1</td>\n",
       "      <td>3</td>\n",
       "      <td>0</td>\n",
       "    </tr>\n",
       "    <tr>\n",
       "      <th>HelpfulnessDenominator</th>\n",
       "      <td>1</td>\n",
       "      <td>0</td>\n",
       "      <td>1</td>\n",
       "      <td>3</td>\n",
       "      <td>0</td>\n",
       "    </tr>\n",
       "    <tr>\n",
       "      <th>Score</th>\n",
       "      <td>5</td>\n",
       "      <td>1</td>\n",
       "      <td>4</td>\n",
       "      <td>2</td>\n",
       "      <td>5</td>\n",
       "    </tr>\n",
       "    <tr>\n",
       "      <th>Time</th>\n",
       "      <td>1303862400</td>\n",
       "      <td>1346976000</td>\n",
       "      <td>1219017600</td>\n",
       "      <td>1307923200</td>\n",
       "      <td>1350777600</td>\n",
       "    </tr>\n",
       "    <tr>\n",
       "      <th>Summary</th>\n",
       "      <td>Good Quality Dog Food</td>\n",
       "      <td>Not as Advertised</td>\n",
       "      <td>\"Delight\" says it all</td>\n",
       "      <td>Cough Medicine</td>\n",
       "      <td>Great taffy</td>\n",
       "    </tr>\n",
       "    <tr>\n",
       "      <th>Text</th>\n",
       "      <td>I have bought several of the Vitality canned d...</td>\n",
       "      <td>Product arrived labeled as Jumbo Salted Peanut...</td>\n",
       "      <td>This is a confection that has been around a fe...</td>\n",
       "      <td>If you are looking for the secret ingredient i...</td>\n",
       "      <td>Great taffy at a great price.  There was a wid...</td>\n",
       "    </tr>\n",
       "  </tbody>\n",
       "</table>\n",
       "</div>"
      ],
      "text/plain": [
       "                                                                        0  \\\n",
       "Id                                                                      1   \n",
       "ProductId                                                      B001E4KFG0   \n",
       "UserId                                                     A3SGXH7AUHU8GW   \n",
       "ProfileName                                                    delmartian   \n",
       "HelpfulnessNumerator                                                    1   \n",
       "HelpfulnessDenominator                                                  1   \n",
       "Score                                                                   5   \n",
       "Time                                                           1303862400   \n",
       "Summary                                             Good Quality Dog Food   \n",
       "Text                    I have bought several of the Vitality canned d...   \n",
       "\n",
       "                                                                        1  \\\n",
       "Id                                                                      2   \n",
       "ProductId                                                      B00813GRG4   \n",
       "UserId                                                     A1D87F6ZCVE5NK   \n",
       "ProfileName                                                        dll pa   \n",
       "HelpfulnessNumerator                                                    0   \n",
       "HelpfulnessDenominator                                                  0   \n",
       "Score                                                                   1   \n",
       "Time                                                           1346976000   \n",
       "Summary                                                 Not as Advertised   \n",
       "Text                    Product arrived labeled as Jumbo Salted Peanut...   \n",
       "\n",
       "                                                                        2  \\\n",
       "Id                                                                      3   \n",
       "ProductId                                                      B000LQOCH0   \n",
       "UserId                                                      ABXLMWJIXXAIN   \n",
       "ProfileName                               Natalia Corres \"Natalia Corres\"   \n",
       "HelpfulnessNumerator                                                    1   \n",
       "HelpfulnessDenominator                                                  1   \n",
       "Score                                                                   4   \n",
       "Time                                                           1219017600   \n",
       "Summary                                             \"Delight\" says it all   \n",
       "Text                    This is a confection that has been around a fe...   \n",
       "\n",
       "                                                                        3  \\\n",
       "Id                                                                      4   \n",
       "ProductId                                                      B000UA0QIQ   \n",
       "UserId                                                     A395BORC6FGVXV   \n",
       "ProfileName                                                          Karl   \n",
       "HelpfulnessNumerator                                                    3   \n",
       "HelpfulnessDenominator                                                  3   \n",
       "Score                                                                   2   \n",
       "Time                                                           1307923200   \n",
       "Summary                                                    Cough Medicine   \n",
       "Text                    If you are looking for the secret ingredient i...   \n",
       "\n",
       "                                                                        4  \n",
       "Id                                                                      5  \n",
       "ProductId                                                      B006K2ZZ7K  \n",
       "UserId                                                     A1UQRSCLF8GW1T  \n",
       "ProfileName                                 Michael D. Bigham \"M. Wassir\"  \n",
       "HelpfulnessNumerator                                                    0  \n",
       "HelpfulnessDenominator                                                  0  \n",
       "Score                                                                   5  \n",
       "Time                                                           1350777600  \n",
       "Summary                                                       Great taffy  \n",
       "Text                    Great taffy at a great price.  There was a wid...  "
      ]
     },
     "execution_count": 5,
     "metadata": {},
     "output_type": "execute_result"
    }
   ],
   "source": [
    "rv_file.head().T"
   ]
  },
  {
   "cell_type": "code",
   "execution_count": 6,
   "metadata": {},
   "outputs": [],
   "source": [
    "# lst = []\n",
    "# for i in rv_file.Text:\n",
    "#     print(len(i))\n",
    "#     lst.append(i)\n",
    "    # break\n",
    "# print(lst)"
   ]
  },
  {
   "cell_type": "code",
   "execution_count": 7,
   "metadata": {},
   "outputs": [
    {
     "data": {
      "text/plain": [
       "Id                         0\n",
       "ProductId                  0\n",
       "UserId                     0\n",
       "ProfileName               26\n",
       "HelpfulnessNumerator       0\n",
       "HelpfulnessDenominator     0\n",
       "Score                      0\n",
       "Time                       0\n",
       "Summary                   27\n",
       "Text                       0\n",
       "dtype: int64"
      ]
     },
     "execution_count": 7,
     "metadata": {},
     "output_type": "execute_result"
    }
   ],
   "source": [
    "rv_file.isnull().sum()"
   ]
  },
  {
   "cell_type": "code",
   "execution_count": 8,
   "metadata": {},
   "outputs": [
    {
     "data": {
      "text/plain": [
       "Score\n",
       "5    363122\n",
       "4     80655\n",
       "1     52268\n",
       "3     42640\n",
       "2     29769\n",
       "Name: count, dtype: int64"
      ]
     },
     "execution_count": 8,
     "metadata": {},
     "output_type": "execute_result"
    }
   ],
   "source": [
    "rv_file = rv_file[['Text', 'Score']].dropna()\n",
    "rv_file.Score.value_counts()"
   ]
  },
  {
   "cell_type": "code",
   "execution_count": 9,
   "metadata": {},
   "outputs": [
    {
     "data": {
      "image/png": "[encoded data removed]",
      "text/plain": [
       "<Figure size 640x480 with 1 Axes>"
      ]
     },
     "metadata": {},
     "output_type": "display_data"
    }
   ],
   "source": [
    "ax=rv_file.Score.value_counts().plot(kind='bar')\n",
    "fig = ax.get_figure()\n",
    "# fig.savefig(\"score.png\")"
   ]
  },
  {
   "cell_type": "code",
   "execution_count": 10,
   "metadata": {},
   "outputs": [
    {
     "name": "stderr",
     "output_type": "stream",
     "text": [
      "C:\\Users\\Tariq\\AppData\\Local\\Temp\\ipykernel_15616\\2773835260.py:1: FutureWarning: ChainedAssignmentError: behaviour will change in pandas 3.0!\n",
      "You are setting values through chained assignment. Currently this works in certain cases, but when using Copy-on-Write (which will become the default behaviour in pandas 3.0) this will never work to update the original DataFrame or Series, because the intermediate object on which we are setting values will behave as a copy.\n",
      "A typical example is when you are setting values in a column of a DataFrame, like:\n",
      "\n",
      "df[\"col\"][row_indexer] = value\n",
      "\n",
      "Use `df.loc[row_indexer, \"col\"] = values` instead, to perform the assignment in a single step and ensure this keeps updating the original `df`.\n",
      "\n",
      "See the caveats in the documentation: https://pandas.pydata.org/pandas-docs/stable/user_guide/indexing.html#returning-a-view-versus-a-copy\n",
      "\n",
      "  rv_file.Score[rv_file.Score<=3]=0\n",
      "C:\\Users\\Tariq\\AppData\\Local\\Temp\\ipykernel_15616\\2773835260.py:1: SettingWithCopyWarning: \n",
      "A value is trying to be set on a copy of a slice from a DataFrame\n",
      "\n",
      "See the caveats in the documentation: https://pandas.pydata.org/pandas-docs/stable/user_guide/indexing.html#returning-a-view-versus-a-copy\n",
      "  rv_file.Score[rv_file.Score<=3]=0\n",
      "C:\\Users\\Tariq\\AppData\\Local\\Temp\\ipykernel_15616\\2773835260.py:2: FutureWarning: ChainedAssignmentError: behaviour will change in pandas 3.0!\n",
      "You are setting values through chained assignment. Currently this works in certain cases, but when using Copy-on-Write (which will become the default behaviour in pandas 3.0) this will never work to update the original DataFrame or Series, because the intermediate object on which we are setting values will behave as a copy.\n",
      "A typical example is when you are setting values in a column of a DataFrame, like:\n",
      "\n",
      "df[\"col\"][row_indexer] = value\n",
      "\n",
      "Use `df.loc[row_indexer, \"col\"] = values` instead, to perform the assignment in a single step and ensure this keeps updating the original `df`.\n",
      "\n",
      "See the caveats in the documentation: https://pandas.pydata.org/pandas-docs/stable/user_guide/indexing.html#returning-a-view-versus-a-copy\n",
      "\n",
      "  rv_file.Score[rv_file.Score>=4]=1\n",
      "C:\\Users\\Tariq\\AppData\\Local\\Temp\\ipykernel_15616\\2773835260.py:2: SettingWithCopyWarning: \n",
      "A value is trying to be set on a copy of a slice from a DataFrame\n",
      "\n",
      "See the caveats in the documentation: https://pandas.pydata.org/pandas-docs/stable/user_guide/indexing.html#returning-a-view-versus-a-copy\n",
      "  rv_file.Score[rv_file.Score>=4]=1\n"
     ]
    }
   ],
   "source": [
    "rv_file.Score[rv_file.Score<=3]=0\n",
    "rv_file.Score[rv_file.Score>=4]=1"
   ]
  },
  {
   "cell_type": "code",
   "execution_count": 11,
   "metadata": {},
   "outputs": [
    {
     "data": {
      "text/plain": [
       "Score\n",
       "1    443777\n",
       "0    124677\n",
       "Name: count, dtype: int64"
      ]
     },
     "execution_count": 11,
     "metadata": {},
     "output_type": "execute_result"
    }
   ],
   "source": [
    "ratings = rv_file.Score.value_counts()\n",
    "ratings"
   ]
  },
  {
   "cell_type": "code",
   "execution_count": 12,
   "metadata": {},
   "outputs": [
    {
     "data": {
      "text/html": [
       "<div>\n",
       "<style scoped>\n",
       "    .dataframe tbody tr th:only-of-type {\n",
       "        vertical-align: middle;\n",
       "    }\n",
       "\n",
       "    .dataframe tbody tr th {\n",
       "        vertical-align: top;\n",
       "    }\n",
       "\n",
       "    .dataframe thead th {\n",
       "        text-align: right;\n",
       "    }\n",
       "</style>\n",
       "<table border=\"1\" class=\"dataframe\">\n",
       "  <thead>\n",
       "    <tr style=\"text-align: right;\">\n",
       "      <th></th>\n",
       "      <th>Text</th>\n",
       "      <th>Score</th>\n",
       "    </tr>\n",
       "  </thead>\n",
       "  <tbody>\n",
       "    <tr>\n",
       "      <th>0</th>\n",
       "      <td>I have bought several of the Vitality canned d...</td>\n",
       "      <td>1</td>\n",
       "    </tr>\n",
       "    <tr>\n",
       "      <th>1</th>\n",
       "      <td>Product arrived labeled as Jumbo Salted Peanut...</td>\n",
       "      <td>0</td>\n",
       "    </tr>\n",
       "    <tr>\n",
       "      <th>2</th>\n",
       "      <td>This is a confection that has been around a fe...</td>\n",
       "      <td>1</td>\n",
       "    </tr>\n",
       "    <tr>\n",
       "      <th>3</th>\n",
       "      <td>If you are looking for the secret ingredient i...</td>\n",
       "      <td>0</td>\n",
       "    </tr>\n",
       "    <tr>\n",
       "      <th>4</th>\n",
       "      <td>Great taffy at a great price.  There was a wid...</td>\n",
       "      <td>1</td>\n",
       "    </tr>\n",
       "  </tbody>\n",
       "</table>\n",
       "</div>"
      ],
      "text/plain": [
       "                                                Text  Score\n",
       "0  I have bought several of the Vitality canned d...      1\n",
       "1  Product arrived labeled as Jumbo Salted Peanut...      0\n",
       "2  This is a confection that has been around a fe...      1\n",
       "3  If you are looking for the secret ingredient i...      0\n",
       "4  Great taffy at a great price.  There was a wid...      1"
      ]
     },
     "execution_count": 12,
     "metadata": {},
     "output_type": "execute_result"
    }
   ],
   "source": [
    "rv_file.head()"
   ]
  },
  {
   "cell_type": "code",
   "execution_count": 13,
   "metadata": {},
   "outputs": [],
   "source": [
    "train_pos_df=rv_file[rv_file.Score==1][:50000]\n",
    "train_neg_df=rv_file[rv_file.Score==0][:50000]"
   ]
  },
  {
   "cell_type": "code",
   "execution_count": 14,
   "metadata": {},
   "outputs": [
    {
     "name": "stdout",
     "output_type": "stream",
     "text": [
      "<class 'pandas.core.frame.DataFrame'>\n"
     ]
    }
   ],
   "source": [
    "print(type(train_pos_df))"
   ]
  },
  {
   "cell_type": "code",
   "execution_count": 15,
   "metadata": {},
   "outputs": [
    {
     "data": {
      "text/plain": [
       "(100000, 2)"
      ]
     },
     "execution_count": 15,
     "metadata": {},
     "output_type": "execute_result"
    }
   ],
   "source": [
    "train_df = pd.concat([train_pos_df, train_neg_df], ignore_index=True)\n",
    "train_df.shape"
   ]
  },
  {
   "cell_type": "code",
   "execution_count": 16,
   "metadata": {},
   "outputs": [
    {
     "data": {
      "text/plain": [
       "(20000, 2)"
      ]
     },
     "execution_count": 16,
     "metadata": {},
     "output_type": "execute_result"
    }
   ],
   "source": [
    "val_pos_df=rv_file[rv_file.Score==1][50000:60000]\n",
    "val_neg_df=rv_file[rv_file.Score==0][50000:60000]\n",
    "val_df = pd.concat([val_pos_df, val_neg_df], ignore_index=True)\n",
    "val_df.shape"
   ]
  },
  {
   "cell_type": "code",
   "execution_count": 17,
   "metadata": {},
   "outputs": [
    {
     "data": {
      "text/plain": [
       "\"I roast at home with a stove-top popcorn popper (but I do it outside, of course). These beans (Coffee Bean Direct Green Mexican Altura) seem to be well-suited for this method. The first and second cracks are distinct, and I've roasted the beans from medium to slightly dark with great results every time. The aroma is strong and persistent. The taste is smooth, velvety, yet lively.\""
      ]
     },
     "execution_count": 17,
     "metadata": {},
     "output_type": "execute_result"
    }
   ],
   "source": [
    "spacy_tok = spacy.load('en_core_web_sm')\n",
    "sample_review=rv_file.Text[54]\n",
    "sample_review"
   ]
  },
  {
   "cell_type": "code",
   "execution_count": 18,
   "metadata": {},
   "outputs": [
    {
     "data": {
      "text/plain": [
       "I roast at home with a stove-top popcorn popper (but I do it outside, of course). These beans (Coffee Bean Direct Green Mexican Altura) seem to be well-suited for this method. The first and second cracks are distinct, and I've roasted the beans from medium to slightly dark with great results every time. The aroma is strong and persistent. The taste is smooth, velvety, yet lively."
      ]
     },
     "execution_count": 18,
     "metadata": {},
     "output_type": "execute_result"
    }
   ],
   "source": [
    "parsed_review = spacy_tok(sample_review)\n",
    "parsed_review"
   ]
  },
  {
   "cell_type": "code",
   "execution_count": null,
   "metadata": {},
   "outputs": [],
   "source": []
  }
 ],
 "metadata": {
  "kernelspec": {
   "display_name": "dll",
   "language": "python",
   "name": "python3"
  },
  "language_info": {
   "codemirror_mode": {
    "name": "ipython",
    "version": 3
   },
   "file_extension": ".py",
   "mimetype": "text/x-python",
   "name": "python",
   "nbconvert_exporter": "python",
   "pygments_lexer": "ipython3",
   "version": "3.12.4"
  }
 },
 "nbformat": 4,
 "nbformat_minor": 2
}
