{
 "cells": [
  {
   "cell_type": "code",
   "execution_count": 26,
   "metadata": {},
   "outputs": [],
   "source": [
    "import glob,os,shutil\n",
    "c_dir = os.getcwd()"
   ]
  },
  {
   "cell_type": "code",
   "execution_count": 27,
   "metadata": {},
   "outputs": [],
   "source": [
    "c_dir = os.path.join(c_dir, 'Peshawar' + os.sep + 'roads')\n",
    "roads = os.listdir(c_dir)"
   ]
  },
  {
   "cell_type": "code",
   "execution_count": null,
   "metadata": {},
   "outputs": [],
   "source": [
    "# roads = [road for road in roads if os.path.isdir(os.path.join(c_dir, road))]"
   ]
  },
  {
   "cell_type": "code",
   "execution_count": null,
   "metadata": {},
   "outputs": [],
   "source": [
    "folder_name = 'Files Before BOQs'\n",
    "if not os.path.exists(folder_name):\n",
    "    os.makedirs(folder_name)\n",
    "for road in roads:\n",
    "    road_dir = os.path.join(c_dir, road)\n",
    "    segments = os.listdir(os.path.join(road_dir, 'segments'))\n",
    "    rd_name = road_dir.split(os.sep)[-1]\n",
    "\n",
    "    for segment in segments:\n",
    "        segment_dir = os.path.join(road_dir, 'segments', segment)\n",
    "        area_count_files = glob.glob(os.path.join(segment_dir, 'DJI_*.csv'))\n",
    "        survey_form_files = glob.glob(os.path.join(segment_dir, 'Survey Form*.xlsx'))\n",
    "        sv_name = survey_form_files[0].split(os.sep)[-1].split('.')[0]\n",
    "\n",
    "        base_name = f\"{road}_{segment}\"\n",
    "        sv_base_name = f\"{road}_{sv_name}\"\n",
    "        new_area_count_path = os.path.join(folder_name, base_name + '.csv')\n",
    "        new_survey_form_path = os.path.join(folder_name, sv_base_name + '.xlsx')\n",
    "\n",
    "        for area_count_file in area_count_files:\n",
    "            shutil.copy(area_count_file, new_area_count_path)\n",
    "\n",
    "        for survey_form_file in survey_form_files:\n",
    "            shutil.copy(survey_form_file, new_survey_form_path)\n"
   ]
  },
  {
   "cell_type": "code",
   "execution_count": null,
   "metadata": {},
   "outputs": [],
   "source": [
    "sv_forms = [svf for svf in os.listdir(folder_name) if \"_Survey Form\" in svf]\n",
    "area_counts = [acf for acf in os.listdir(folder_name) if \"_Segment \" in acf]"
   ]
  },
  {
   "cell_type": "code",
   "execution_count": null,
   "metadata": {},
   "outputs": [],
   "source": [
    "sv_forms"
   ]
  },
  {
   "cell_type": "code",
   "execution_count": null,
   "metadata": {},
   "outputs": [],
   "source": [
    "area_counts"
   ]
  },
  {
   "cell_type": "code",
   "execution_count": null,
   "metadata": {},
   "outputs": [],
   "source": [
    "for svf in sv_forms + area_counts:\n",
    "    svf_path = os.path.join(folder_name, svf)\n",
    "    road_name = svf.split('_')[0]\n",
    "    if road_name in svf:\n",
    "        road_path = os.path.join(folder_name, road_name)\n",
    "        if not os.path.exists(road_path):\n",
    "            os.makedirs(road_path)\n",
    "        shutil.move(svf_path, road_path)\n",
    "\n",
    "        "
   ]
  },
  {
   "cell_type": "code",
   "execution_count": 31,
   "metadata": {},
   "outputs": [
    {
     "name": "stdout",
     "output_type": "stream",
     "text": [
      "Saved summary for Ashukhel To Bora RD to Peshawar Summary Files\\Ashukhel To Bora RD_Summary_File.csv\n",
      "Saved summary for Bora To Pastawani RD to Peshawar Summary Files\\Bora To Pastawani RD_Summary_File.csv\n",
      "Saved summary for C Fort Maxon To Faridi RD to Peshawar Summary Files\\C Fort Maxon To Faridi RD_Summary_File.csv\n",
      "Saved summary for Canal RD linking kohat Rd with Bara Road to Peshawar Summary Files\\Canal RD linking kohat Rd with Bara Road_Summary_File.csv\n",
      "Saved summary for From killi guli khel mandai                               (A to B) to Peshawar Summary Files\\From killi guli khel mandai                               (A to B)_Summary_File.csv\n",
      "Saved summary for Gorgurai To Reedaman Killi to Peshawar Summary Files\\Gorgurai To Reedaman Killi_Summary_File.csv\n",
      "Saved summary for Internal road in civil quarter to Peshawar Summary Files\\Internal road in civil quarter_Summary_File.csv\n",
      "Saved summary for Jalaldin To Bashi Khel RD to Peshawar Summary Files\\Jalaldin To Bashi Khel RD_Summary_File.csv\n",
      "Saved summary for Janakore Musa Dara RD to Peshawar Summary Files\\Janakore Musa Dara RD_Summary_File.csv\n",
      "Saved summary for Janakore Village RD to Peshawar Summary Files\\Janakore Village RD_Summary_File.csv\n",
      "Saved summary for Jani garhi rd to Peshawar Summary Files\\Jani garhi rd_Summary_File.csv\n",
      "Saved summary for KM Road Gowara Godar badaber to Peshawar Summary Files\\KM Road Gowara Godar badaber_Summary_File.csv\n",
      "Saved summary for Main Hassan khel RD To Kotani Killi Sarmast Khel to Peshawar Summary Files\\Main Hassan khel RD To Kotani Killi Sarmast Khel_Summary_File.csv\n",
      "Saved summary for Major abdul jalil raod from  ramdas upto  Civil quarter  UC 30 to Peshawar Summary Files\\Major abdul jalil raod from  ramdas upto  Civil quarter  UC 30_Summary_File.csv\n",
      "Saved summary for Mandai Janakore RD to Peshawar Summary Files\\Mandai Janakore RD_Summary_File.csv\n",
      "Saved summary for Maryamzai RD taking OFF KHT RD to Peshawar Summary Files\\Maryamzai RD taking OFF KHT RD_Summary_File.csv\n",
      "Saved summary for Maryamzai To Aza Khel RD to Peshawar Summary Files\\Maryamzai To Aza Khel RD_Summary_File.csv\n",
      "Saved summary for Maryamzai To Yousaf Khel RD to Peshawar Summary Files\\Maryamzai To Yousaf Khel RD_Summary_File.csv\n",
      "Saved summary for Mattani ART Balia RD to Peshawar Summary Files\\Mattani ART Balia RD_Summary_File.csv\n",
      "Saved summary for Mattani Shakeera Shamshatu RD to Peshawar Summary Files\\Mattani Shakeera Shamshatu RD_Summary_File.csv\n",
      "Saved summary for Mattani Village RD UPTO Bypass KHT RD to Peshawar Summary Files\\Mattani Village RD UPTO Bypass KHT RD_Summary_File.csv\n",
      "Saved summary for MCA nakia RD Maira Surizai Payan to Peshawar Summary Files\\MCA nakia RD Maira Surizai Payan_Summary_File.csv\n",
      "Saved summary for Miamkhel RD RXC Kohi Hassan khel RD to Peshawar Summary Files\\Miamkhel RD RXC Kohi Hassan khel RD_Summary_File.csv\n",
      "Saved summary for Misri Khel RD to Peshawar Summary Files\\Misri Khel RD_Summary_File.csv\n",
      "Saved summary for MuradKhel RD to Peshawar Summary Files\\MuradKhel RD_Summary_File.csv\n",
      "Saved summary for Murshid abad road taif colony UC 24 kakshal to Peshawar Summary Files\\Murshid abad road taif colony UC 24 kakshal_Summary_File.csv\n",
      "Saved summary for Pandu shamshatu Sherkera RD To Said Amir Chowk to Peshawar Summary Files\\Pandu shamshatu Sherkera RD To Said Amir Chowk_Summary_File.csv\n",
      "Saved summary for Passani Chowk RD to Hakim Khan killi Faridi Ashukhel to Peshawar Summary Files\\Passani Chowk RD to Hakim Khan killi Faridi Ashukhel_Summary_File.csv\n",
      "Saved summary for Passani Morh To AliKhel to Peshawar Summary Files\\Passani Morh To AliKhel_Summary_File.csv\n",
      "Saved summary for Peshawar bara road                                    (Side  A) to Peshawar Summary Files\\Peshawar bara road                                    (Side  A)_Summary_File.csv\n",
      "Saved summary for Peshawar bara road                                    (Side  B) to Peshawar Summary Files\\Peshawar bara road                                    (Side  B)_Summary_File.csv\n",
      "Saved summary for Peshawar Shamshatto Rd to Government High School Garhi Chandan Payan to Peshawar Summary Files\\Peshawar Shamshatto Rd to Government High School Garhi Chandan Payan_Summary_File.csv\n",
      "Saved summary for Phandu Rd to  shamshatoo RD to Peshawar Summary Files\\Phandu Rd to  shamshatoo RD_Summary_File.csv\n",
      "Saved summary for Qasim Ullom To Malak Jahanzeb Killi to Peshawar Summary Files\\Qasim Ullom To Malak Jahanzeb Killi_Summary_File.csv\n",
      "Saved summary for Road from kohat road upto mohamand abad (Said Hussain  Pir Road) to Peshawar Summary Files\\Road from kohat road upto mohamand abad (Said Hussain  Pir Road)_Summary_File.csv\n",
      "Saved summary for Road from kohati chowck upto namak mandi chowck  UC 18 jangir pura to Peshawar Summary Files\\Road from kohati chowck upto namak mandi chowck  UC 18 jangir pura_Summary_File.csv\n",
      "Saved summary for Road from yakatoot gate munda bari chowck to Peshawar Summary Files\\Road from yakatoot gate munda bari chowck_Summary_File.csv\n",
      "Saved summary for Road from zargar abad chock upto shad bagh colony  UC-22 yakatoot -II to Peshawar Summary Files\\Road from zargar abad chock upto shad bagh colony  UC-22 yakatoot -II_Summary_File.csv\n",
      "Saved summary for Sherekera Kohi Hassan Khel RD Bochin Khel RD to Peshawar Summary Files\\Sherekera Kohi Hassan Khel RD Bochin Khel RD_Summary_File.csv\n",
      "Saved summary for Sobbni Killi To wahid killi RD to Peshawar Summary Files\\Sobbni Killi To wahid killi RD_Summary_File.csv\n",
      "Saved summary for Superior science college road upto rasheed  gahri chowk UC 21 yakatoot II to Peshawar Summary Files\\Superior science college road upto rasheed  gahri chowk UC 21 yakatoot II_Summary_File.csv\n",
      "Saved summary for Tela Band main Rd to Peshawar Summary Files\\Tela Band main Rd_Summary_File.csv\n",
      "Saved summary for Urmar Miana To Warsak Cannal RD to Peshawar Summary Files\\Urmar Miana To Warsak Cannal RD_Summary_File.csv\n",
      "Saved summary for Yousaf Khel To Adezai RD to Peshawar Summary Files\\Yousaf Khel To Adezai RD_Summary_File.csv\n",
      "Saved summary for Yousaf Khel To Nawab Chowk Sherkera to Peshawar Summary Files\\Yousaf Khel To Nawab Chowk Sherkera_Summary_File.csv\n",
      "Saved summary for Zangali Canal To Azakhel RD to Peshawar Summary Files\\Zangali Canal To Azakhel RD_Summary_File.csv\n"
     ]
    }
   ],
   "source": [
    "import os,re\n",
    "import pandas as pd\n",
    "import glob\n",
    "\n",
    "path = \"Files Before BOQs\" + os.sep + '*'\n",
    "roads = glob.glob(path)\n",
    "Dist_name =c_dir.split(os.sep)[-2]\n",
    "for road in roads:\n",
    "    data_list = []\n",
    "    sv_forms = [svf for svf in os.listdir(road) if \"_Survey Form\" in svf]\n",
    "    area_counts = [acf for acf in os.listdir(road) if \"_Segment \" in acf]\n",
    "    road_name = os.path.basename(road)\n",
    "\n",
    "    for svf, acf in zip(sv_forms, area_counts):\n",
    "        svf_path = os.path.join(road, svf)\n",
    "        # print(svf_path)\n",
    "        svf_content = pd.read_excel(svf_path, header=None).T\n",
    "        rd_seg = svf_content[7][1]\n",
    "        rd_len = svf_content[8][1]\n",
    "        numeric_data = re.findall(r'\\d+', rd_len)\n",
    "        rd_len = int(''.join(numeric_data))\n",
    "        rd_widt = svf_content[9][1]\n",
    "        strt_pnt = svf_content[12][1]\n",
    "        end_pnt = svf_content[12][1]\n",
    "        \n",
    "        acf_path = os.path.join(road, acf)\n",
    "        acf_content = pd.read_csv(acf_path)\n",
    "        pci = acf_content[\"PCI\"][0]\n",
    "        \n",
    "        segment_info = f\"Segment {rd_seg}\"\n",
    "        \n",
    "        data_list.append([segment_info, rd_len, rd_widt, strt_pnt, end_pnt, pci])\n",
    "\n",
    "    df = pd.DataFrame(data_list, columns=['Segments', 'Length(m)', 'Width', 'Start Point', 'End Point', 'PCI'])\n",
    "\n",
    "    output_path = os.path.join(Dist_name + ' Summary Files', f\"{road_name}_Summary_File.csv\")\n",
    "    os.makedirs(os.path.dirname(output_path), exist_ok=True)\n",
    "    df.to_csv(output_path, index=False)\n",
    "\n",
    "    print(f\"Saved summary for {road_name} to {output_path}\")"
   ]
  },
  {
   "cell_type": "code",
   "execution_count": null,
   "metadata": {},
   "outputs": [],
   "source": []
  }
 ],
 "metadata": {
  "kernelspec": {
   "display_name": "dll",
   "language": "python",
   "name": "python3"
  },
  "language_info": {
   "codemirror_mode": {
    "name": "ipython",
    "version": 3
   },
   "file_extension": ".py",
   "mimetype": "text/x-python",
   "name": "python",
   "nbconvert_exporter": "python",
   "pygments_lexer": "ipython3",
   "version": "3.12.4"
  }
 },
 "nbformat": 4,
 "nbformat_minor": 2
}
