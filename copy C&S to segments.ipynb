{
 "cells": [
  {
   "cell_type": "code",
   "execution_count": 1,
   "metadata": {},
   "outputs": [],
   "source": [
    "import shutil\n",
    "import os,glob"
   ]
  },
  {
   "cell_type": "code",
   "execution_count": 2,
   "metadata": {},
   "outputs": [],
   "source": [
    "def find_district_directory():\n",
    "    \n",
    "    return [i for i in next(os.walk('Data'))[1]][0]\n",
    "\n",
    "\n",
    "def find_road_directories(district):\n",
    "\n",
    "    return [i for i in (glob.glob(district + os.sep + 'roads' + os.sep + '*')) if os.path.isdir(i)]"
   ]
  },
  {
   "cell_type": "code",
   "execution_count": 3,
   "metadata": {},
   "outputs": [],
   "source": [
    "# def copy_cost_strategy_files(new_cs_files,roads):\n",
    "#     csv_files = glob.glob(new_cs_files+ os.sep + \"*.csv\" , recursive=True)\n",
    "#     counter = 0\n",
    "#     print(len(roads))\n",
    "#     for road in roads:\n",
    "#         segs = glob.glob(road + os.sep + '*')\n",
    "#         for seg in segs:\n",
    "#             # print(seg)\n",
    "#             target_directory = os.path.dirname(seg)\n",
    "#             target_directory_name = os.path.basename(target_directory)\n",
    "#             # print(target_directory_name)\n",
    "\n",
    "#             for file in csv_files:\n",
    "#                 file_name = os.path.basename(file)\n",
    "#                 file_name_without_extension = file_name.split(\".\")[0]\n",
    "\n",
    "#                 if file_name_without_extension == target_directory_name:\n",
    "#                     if os.path.isfile(file):\n",
    "#                         shutil.copy(file, target_directory)\n",
    "#                         counter +=1\n",
    "#                         # print(f'{counter} Copied {file.split(os.sep)[-1]} To >>>>>>>>>>>>> {target_directory}\\n')"
   ]
  },
  {
   "cell_type": "code",
   "execution_count": 4,
   "metadata": {},
   "outputs": [],
   "source": [
    "def copy_cost_strategy_files(new_cs_files,roads):\n",
    "    global total_roads_for_boqs, found\n",
    "    csv_files = glob.glob(new_cs_files+ os.sep + \"*.csv\" , recursive=True)\n",
    "    found= []\n",
    "    total_roads_for_boqs = []\n",
    "    for road in roads:\n",
    "        segment_dir  =road + os.sep + 'segments'\n",
    "\n",
    "        target_directory = os.path.dirname(segment_dir)\n",
    "        target_directory_name = os.path.basename(target_directory)\n",
    "        total_roads_for_boqs.append(target_directory_name)\n",
    "        # print(target_directory_name)\n",
    "\n",
    "        for file in csv_files:\n",
    "            file_name = os.path.basename(file)\n",
    "            file_name_without_extension = file_name.split(\"_BOQs\")[0]\n",
    "\n",
    "            if file_name_without_extension == target_directory_name:\n",
    "                    found.append(file_name_without_extension)\n",
    "                    shutil.copy(file, target_directory)"
   ]
  },
  {
   "cell_type": "code",
   "execution_count": 5,
   "metadata": {},
   "outputs": [],
   "source": [
    "new_cs_files = 'Peshawar Part B'\n",
    "distt = find_district_directory()\n",
    "distt_path = 'Data' + os.sep + distt\n",
    "roads = find_road_directories(distt_path)\n",
    "copy_cost_strategy_files(new_cs_files,roads)"
   ]
  },
  {
   "cell_type": "code",
   "execution_count": 6,
   "metadata": {},
   "outputs": [],
   "source": [
    "for item in total_roads_for_boqs:\n",
    "    if item not in found:\n",
    "        print(f\"File of {item}, doesn't copied.....\")"
   ]
  }
 ],
 "metadata": {
  "kernelspec": {
   "display_name": "dle",
   "language": "python",
   "name": "python3"
  },
  "language_info": {
   "codemirror_mode": {
    "name": "ipython",
    "version": 3
   },
   "file_extension": ".py",
   "mimetype": "text/x-python",
   "name": "python",
   "nbconvert_exporter": "python",
   "pygments_lexer": "ipython3",
   "version": "3.12.4"
  }
 },
 "nbformat": 4,
 "nbformat_minor": 2
}
