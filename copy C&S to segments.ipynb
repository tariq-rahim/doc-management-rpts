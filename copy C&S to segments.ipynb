{
 "cells": [
  {
   "cell_type": "code",
   "execution_count": 1,
   "metadata": {},
   "outputs": [],
   "source": [
    "import shutil\n",
    "import os,glob"
   ]
  },
  {
   "cell_type": "code",
   "execution_count": 2,
   "metadata": {},
   "outputs": [],
   "source": [
    "def find_district_directory():\n",
    "    \n",
    "    return [i for i in next(os.walk('Data'))[1]][0]\n",
    "\n",
    "\n",
    "def find_road_directories(district):\n",
    "\n",
    "    return [i for i in (glob.glob(district + os.sep + 'roads' + os.sep + '*')) if os.path.isdir(i)]"
   ]
  },
  {
   "cell_type": "code",
   "execution_count": 3,
   "metadata": {},
   "outputs": [],
   "source": [
    "def copy_cost_strategy_files(new_cs_files,roads):\n",
    "    csv_files = glob.glob(new_cs_files+ os.sep + \"*.csv\" , recursive=True)\n",
    "    counter = 0\n",
    "    for road in roads:\n",
    "        segs = glob.glob(road + os.sep + '*')\n",
    "        for seg in segs:\n",
    "            target_directory = os.path.dirname(seg)\n",
    "            target_directory_name = os.path.basename(target_directory)\n",
    "\n",
    "            for file in csv_files:\n",
    "                file_name = os.path.basename(file)\n",
    "                file_name_without_extension = file_name.split(\".\")[0]\n",
    "\n",
    "                if file_name_without_extension == target_directory_name:\n",
    "                    if os.path.isfile(file):\n",
    "                        shutil.copy(file, target_directory)\n",
    "                        counter +=1\n",
    "                        print(f'{counter} Copied {file.split(os.sep)[-1]} To >>>>>>>>>>>>> {target_directory}\\n')"
   ]
  },
  {
   "cell_type": "code",
   "execution_count": 4,
   "metadata": {},
   "outputs": [
    {
     "name": "stdout",
     "output_type": "stream",
     "text": [
      "1 Copied Gerra Ahmad To Saggu.csv To >>>>>>>>>>>>> Data\\DI kh\\roads\\Gerra Ahmad To Saggu\n",
      "\n"
     ]
    }
   ],
   "source": [
    "new_cs_files = 'Newly created files'\n",
    "distt = find_district_directory()\n",
    "distt_path = 'Data' + os.sep + distt\n",
    "roads = find_road_directories(distt_path)\n",
    "copy_cost_strategy_files(new_cs_files,roads)"
   ]
  },
  {
   "cell_type": "code",
   "execution_count": null,
   "metadata": {},
   "outputs": [],
   "source": []
  }
 ],
 "metadata": {
  "kernelspec": {
   "display_name": "dle",
   "language": "python",
   "name": "python3"
  },
  "language_info": {
   "codemirror_mode": {
    "name": "ipython",
    "version": 3
   },
   "file_extension": ".py",
   "mimetype": "text/x-python",
   "name": "python",
   "nbconvert_exporter": "python",
   "pygments_lexer": "ipython3",
   "version": "3.12.4"
  }
 },
 "nbformat": 4,
 "nbformat_minor": 2
}
