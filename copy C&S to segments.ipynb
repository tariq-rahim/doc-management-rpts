{
 "cells": [
  {
   "cell_type": "code",
   "execution_count": 1,
   "metadata": {},
   "outputs": [],
   "source": [
    "import shutil\n",
    "import os,glob"
   ]
  },
  {
   "cell_type": "code",
   "execution_count": 2,
   "metadata": {},
   "outputs": [],
   "source": [
    "def find_district_directory():\n",
    "    \"\"\"\n",
    "    Finds the district directory within the current directory.\n",
    "\n",
    "    Returns:\n",
    "        str: The name of the district directory.\n",
    "    \"\"\"\n",
    "    return [i for i in next(os.walk('Data'))[1]][0]\n",
    "\n",
    "\n",
    "def find_road_directories(district):\n",
    "    \"\"\"\n",
    "    Finds all road directories within a district.\n",
    "\n",
    "    Args:\n",
    "        district (str): The name of the district.\n",
    "\n",
    "    Returns:\n",
    "        list: A list of road directories.\n",
    "    \"\"\"\n",
    "    return [i for i in (glob.glob(district + os.sep + 'roads' + os.sep + '*')) if os.path.isdir(i)]"
   ]
  },
  {
   "cell_type": "code",
   "execution_count": 3,
   "metadata": {},
   "outputs": [
    {
     "name": "stdout",
     "output_type": "stream",
     "text": [
      "1 Copied Chashma Road To Lakhra.csv To >>>>>>>>>>>>> Data\\DI KHAN\\roads\\Chashma Road To Lakhra\n",
      "\n",
      "2 Copied Ramak to polowan to basti Shekhain wali (Follow Points).csv To >>>>>>>>>>>>> Data\\DI KHAN\\roads\\Ramak to polowan to basti Shekhain wali (Follow Points)\n",
      "\n",
      "3 Copied Road from DG Khan road to Shah Hussain (Khana Shareef).csv To >>>>>>>>>>>>> Data\\DI KHAN\\roads\\Road from DG Khan road to Shah Hussain (Khana Shareef)\n",
      "\n"
     ]
    }
   ],
   "source": [
    "distt = find_district_directory()\n",
    "distt_path = 'Data' + os.sep + distt\n",
    "roads = find_road_directories(distt_path)\n",
    "b_files = glob.glob(\"**/*/**.csv\", recursive=True)\n",
    "counter = 0\n",
    "for road in roads:\n",
    "    segs = glob.glob(road + os.sep + '*')\n",
    "    for seg in segs:\n",
    "        \n",
    "        seg_name = os.path.basename(seg)\n",
    "        # print(f\"Processing segment: {seg_name}\")\n",
    "        target_directory = os.path.dirname(seg)\n",
    "        target_directory_name = os.path.basename(target_directory)\n",
    "\n",
    "        for file in b_files:\n",
    "            file_name = os.path.basename(file)\n",
    "            file_name_without_extension, file_extension = os.path.splitext(file_name)\n",
    "\n",
    "            if file_name_without_extension == target_directory_name:\n",
    "                if os.path.isfile(file):\n",
    "                    shutil.copy(file, target_directory)\n",
    "                    counter +=1\n",
    "                    print(f'{counter} Copied {file.split(os.sep)[-1]} To >>>>>>>>>>>>> {target_directory}\\n')"
   ]
  }
 ],
 "metadata": {
  "kernelspec": {
   "display_name": "dle",
   "language": "python",
   "name": "python3"
  },
  "language_info": {
   "codemirror_mode": {
    "name": "ipython",
    "version": 3
   },
   "file_extension": ".py",
   "mimetype": "text/x-python",
   "name": "python",
   "nbconvert_exporter": "python",
   "pygments_lexer": "ipython3",
   "version": "3.12.4"
  }
 },
 "nbformat": 4,
 "nbformat_minor": 2
}
