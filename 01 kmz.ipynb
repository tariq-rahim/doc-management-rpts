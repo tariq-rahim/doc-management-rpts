{
 "cells": [
  {
   "cell_type": "code",
   "execution_count": 23,
   "metadata": {},
   "outputs": [],
   "source": [
    "# import zipfile\n",
    "\n",
    "# kmz_file = \"D72 Dubai-R1 - Copy.kmz\"\n",
    "\n",
    "# with zipfile.ZipFile(kmz_file, 'r') as file:\n",
    "#     file.extractall()\n",
    "# import geopandas as gpd\n",
    "# gdf = gpd.read_file('doc.kml')\n",
    "\n",
    "# name = gdf['Name']\n",
    "# name = name.to_csv('name.csv', index = False)"
   ]
  },
  {
   "cell_type": "code",
   "execution_count": 4,
   "metadata": {},
   "outputs": [],
   "source": []
  },
  {
   "cell_type": "code",
   "execution_count": null,
   "metadata": {},
   "outputs": [],
   "source": []
  },
  {
   "cell_type": "code",
   "execution_count": 3,
   "metadata": {},
   "outputs": [],
   "source": [
    "import zipfile\n",
    "import geopandas as gpd\n",
    "import pandas as pd\n",
    "import os"
   ]
  },
  {
   "cell_type": "code",
   "execution_count": 25,
   "metadata": {},
   "outputs": [],
   "source": [
    "kmz_file = \"D72 Dubai-R1.kmz\""
   ]
  },
  {
   "cell_type": "code",
   "execution_count": 26,
   "metadata": {},
   "outputs": [],
   "source": [
    "with zipfile.ZipFile(kmz_file, 'r') as file:\n",
    "    file.extractall()\n"
   ]
  },
  {
   "cell_type": "code",
   "execution_count": null,
   "metadata": {},
   "outputs": [],
   "source": [
    "gdf = gpd.read_file('doc.kml')\n",
    "name = gdf['Name']\n",
    "road_name = name.iloc[0]\n",
    "lat_long = gdf['geometry'].iloc[0]\n",
    "print(len(lat_long.coords))\n",
    "for line in lat_long.coords:\n",
    "    lat = line[0]\n",
    "    long = line[1]\n",
    "    road_name_df = pd.DataFrame({'Road Name': [road_name], 'Latitude': [lat], 'Longitude': [long]})\n",
    "    \n",
    "    # road_name_df.to_csv('File.csv', mode='a', header=not pd.io.common.file_exists('name.csv'), index=False)\n",
    "    road_name_df.to_csv('File.csv', mode='a', header=not pd.io.common.file_exists('File.csv'), index=False)\n",
    "\n",
    "\n",
    "# for line in lat_long.coords:\n",
    "#     lat = line[0]\n",
    "#     long = line[1]\n",
    "#     road_name_df = pd.DataFrame({'road_name': [road_name], 'Latitude': [lat], 'Longitude': [long]})\n",
    "#     road_name_df.to_csv('name.csv', index=False)"
   ]
  },
  {
   "cell_type": "code",
   "execution_count": null,
   "metadata": {},
   "outputs": [],
   "source": []
  },
  {
   "cell_type": "code",
   "execution_count": null,
   "metadata": {},
   "outputs": [],
   "source": []
  },
  {
   "cell_type": "code",
   "execution_count": null,
   "metadata": {},
   "outputs": [],
   "source": []
  },
  {
   "cell_type": "code",
   "execution_count": null,
   "metadata": {},
   "outputs": [],
   "source": [
    "# import zipfile\n",
    "# import geopandas as gpd\n",
    "# import pandas as pd\n",
    "# import os\n",
    "\n",
    "# # List of KMZ files\n",
    "# kmz_files = [\"D72 Dubai-R1.kmz\", \"D72 Dubai-R1 - Copy.kmz\"]\n",
    "# output_csv = 'File.csv'\n",
    "\n",
    "# # Initialize the CSV file\n",
    "# if os.path.exists(output_csv):\n",
    "#     os.remove(output_csv)  # Remove the file if it already exists\n",
    "\n",
    "# for kmz_file in kmz_files:\n",
    "#     with zipfile.ZipFile(kmz_file, 'r') as file:\n",
    "#         file.extractall()\n",
    "    \n",
    "#     # Read the KML file (assuming it's named 'doc.kml' in each KMZ)\n",
    "#     gdf = gpd.read_file('doc.kml')\n",
    "#     name = gdf['Name']\n",
    "    \n",
    "#     for index, road_name in enumerate(name):\n",
    "#         lat_long = gdf['geometry'].iloc[index]\n",
    "        \n",
    "#         for line in lat_long.coords:\n",
    "#             lat = line[1]  # Latitude is at index 1\n",
    "#             long = line[0]  # Longitude is at index 0\n",
    "            \n",
    "#             road_name_df = pd.DataFrame({'Road Name': [road_name], 'Latitude': [lat], 'Longitude': [long]})\n",
    "#             road_name_df.to_csv(output_csv, mode='a', header=not os.path.exists(output_csv), index=False)\n",
    "    \n",
    "#     # break\n",
    "\n",
    "#     # Clean up extracted files if needed\n",
    "#     # os.remove('doc.kml')  # Remove the KML file after processing\n",
    "\n",
    "# print(f\"Data has been successfully extracted and saved to {output_csv}.\")\n"
   ]
  },
  {
   "cell_type": "code",
   "execution_count": 2,
   "metadata": {},
   "outputs": [
    {
     "name": "stdout",
     "output_type": "stream",
     "text": [
      "Extracted D72 Dubai-R1.kmz.\n",
      "Data has been successfully extracted and saved to Filee.csv.\n"
     ]
    }
   ],
   "source": [
    "import zipfile\n",
    "import geopandas as gpd\n",
    "import pandas as pd\n",
    "import os\n",
    "\n",
    "path = \"Road kmz files\"\n",
    "\n",
    "kmz_files = [file for file in os.listdir(path) if file.endswith('.kmz')]\n",
    "output_csv = 'Filee.csv'\n",
    "\n",
    "if os.path.exists(output_csv):\n",
    "    os.remove(output_csv)\n",
    "\n",
    "for kmz_file in kmz_files:\n",
    "    full_path = os.path.join(path, kmz_file)\n",
    "    \n",
    "    try:\n",
    "        with zipfile.ZipFile(full_path, 'r') as file:\n",
    "            file.extractall(path)\n",
    "            print(f\"Extracted {kmz_file}.\")\n",
    "        \n",
    "        kml_file = os.path.join(path, 'doc.kml')\n",
    "        gdf = gpd.read_file(kml_file)\n",
    "        names = gdf['Name']\n",
    "\n",
    "        for index, road_name in enumerate(names):\n",
    "            lat_long = gdf['geometry'].iloc[index]\n",
    "            \n",
    "            for line in lat_long.coords:\n",
    "                lat = line[1]\n",
    "                long = line[0]\n",
    "                \n",
    "                road_name_df = pd.DataFrame({'Road Name': [road_name], 'Latitude': [lat], 'Longitude': [long]})\n",
    "                road_name_df.to_csv(output_csv, mode='a', header=not os.path.exists(output_csv), index=False)\n",
    "\n",
    "        os.remove(kml_file)\n",
    "\n",
    "    # except FileNotFoundError as e:\n",
    "    #     print(f\"Error: {e} for file {kmz_file}\")\n",
    "    # except zipfile.BadZipFile as e:\n",
    "    #     print(f\"Error: {kmz_file} is not a valid zip file.\")\n",
    "    except Exception as e:\n",
    "        print(f\"An error occurred while processing {kmz_file}: {e}\")\n",
    "\n",
    "print(f\"Data has been successfully extracted and saved to {output_csv}.\")\n"
   ]
  }
 ],
 "metadata": {
  "kernelspec": {
   "display_name": "dll",
   "language": "python",
   "name": "python3"
  },
  "language_info": {
   "codemirror_mode": {
    "name": "ipython",
    "version": 3
   },
   "file_extension": ".py",
   "mimetype": "text/x-python",
   "name": "python",
   "nbconvert_exporter": "python",
   "pygments_lexer": "ipython3",
   "version": "3.12.4"
  }
 },
 "nbformat": 4,
 "nbformat_minor": 2
}
