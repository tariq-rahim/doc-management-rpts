{
 "cells": [
  {
   "cell_type": "code",
   "execution_count": null,
   "metadata": {},
   "outputs": [],
   "source": [
    "import glob,os,shutil\n",
    "c_dir = os.getcwd()"
   ]
  },
  {
   "cell_type": "code",
   "execution_count": null,
   "metadata": {},
   "outputs": [],
   "source": [
    "c_dir = os.path.join(c_dir, 'DI Khan' + os.sep + 'roads')\n",
    "roads = os.listdir(c_dir)"
   ]
  },
  {
   "cell_type": "code",
   "execution_count": null,
   "metadata": {},
   "outputs": [],
   "source": [
    "# roads = [road for road in roads if os.path.isdir(os.path.join(c_dir, road))]"
   ]
  },
  {
   "cell_type": "code",
   "execution_count": null,
   "metadata": {},
   "outputs": [],
   "source": [
    "folder_name = 'Files Before BOQs'\n",
    "if not os.path.exists(folder_name):\n",
    "    os.makedirs(folder_name)\n",
    "for road in roads:\n",
    "    road_dir = os.path.join(c_dir, road)\n",
    "    segments = os.listdir(os.path.join(road_dir, 'segments'))\n",
    "    rd_name = road_dir.split(os.sep)[-1]\n",
    "\n",
    "    for segment in segments:\n",
    "        segment_dir = os.path.join(road_dir, 'segments', segment)\n",
    "        area_count_files = glob.glob(os.path.join(segment_dir, 'Area_Count*.csv'))\n",
    "        survey_form_files = glob.glob(os.path.join(segment_dir, 'Survey Form*.xlsx'))\n",
    "        sv_name = survey_form_files[0].split(os.sep)[-1].split('.')[0]\n",
    "\n",
    "        base_name = f\"{road}_{segment}\"\n",
    "        sv_base_name = f\"{road}_{sv_name}\"\n",
    "        new_area_count_path = os.path.join(folder_name, base_name + '.csv')\n",
    "        new_survey_form_path = os.path.join(folder_name, sv_base_name + '.xlsx')\n",
    "\n",
    "        for area_count_file in area_count_files:\n",
    "            shutil.copy(area_count_file, new_area_count_path)\n",
    "\n",
    "        for survey_form_file in survey_form_files:\n",
    "            shutil.copy(survey_form_file, new_survey_form_path)\n"
   ]
  },
  {
   "cell_type": "code",
   "execution_count": null,
   "metadata": {},
   "outputs": [],
   "source": [
    "sv_forms = [svf for svf in os.listdir(folder_name) if \"_Survey Form\" in svf]\n",
    "area_counts = [acf for acf in os.listdir(folder_name) if \"_Segment \" in acf]"
   ]
  },
  {
   "cell_type": "code",
   "execution_count": null,
   "metadata": {},
   "outputs": [],
   "source": [
    "for svf in sv_forms + area_counts:\n",
    "    svf_path = os.path.join(folder_name, svf)\n",
    "    road_name = svf.split('_')[0]\n",
    "    if road_name in svf:\n",
    "        road_path = os.path.join(folder_name, road_name)\n",
    "        if not os.path.exists(road_path):\n",
    "            os.makedirs(road_path)\n",
    "        shutil.move(svf_path, road_path)"
   ]
  },
  {
   "cell_type": "code",
   "execution_count": 26,
   "metadata": {},
   "outputs": [
    {
     "name": "stdout",
     "output_type": "stream",
     "text": [
      "Saved summary for Distry 19 village Lunda Para to Ready\\Distry 19 village Lunda Para_Summary_File.csv\n",
      "Saved summary for From Main Darazinda Road to Fazal Jan Korona Ragha Sar to Ready\\From Main Darazinda Road to Fazal Jan Korona Ragha Sar_Summary_File.csv\n"
     ]
    }
   ],
   "source": [
    "import os\n",
    "import pandas as pd\n",
    "import glob\n",
    "\n",
    "path = \"Files Before BOQs\" + os.sep + '*'\n",
    "roads = glob.glob(path)\n",
    "\n",
    "for road in roads:\n",
    "    data_list = []\n",
    "    \n",
    "    # Find relevant files\n",
    "    sv_forms = [svf for svf in os.listdir(road) if \"_Survey Form\" in svf]\n",
    "    area_counts = [acf for acf in os.listdir(road) if \"_Segment \" in acf]\n",
    "    road_name = os.path.basename(road)\n",
    "\n",
    "    for svf, acf in zip(sv_forms, area_counts):\n",
    "        svf_path = os.path.join(road, svf)\n",
    "        svf_content = pd.read_excel(svf_path, header=None).T\n",
    "        rd_seg = svf_content[7][1]\n",
    "        rd_len = svf_content[8][1][:3]\n",
    "        rd_widt = svf_content[9][1]\n",
    "        strt_pnt = svf_content[12][1]\n",
    "        end_pnt = svf_content[12][1]\n",
    "        \n",
    "        acf_path = os.path.join(road, acf)\n",
    "        acf_content = pd.read_csv(acf_path)\n",
    "        pci = acf_content[\"PCI\"][0]\n",
    "        \n",
    "        segment_info = f\"Segment {rd_seg}\"\n",
    "        \n",
    "        data_list.append([segment_info, rd_len, rd_widt, strt_pnt, end_pnt, pci])\n",
    "\n",
    "    df = pd.DataFrame(data_list, columns=['Segments', 'Length(m)', 'Width', 'Start Point', 'End Point', 'PCI'])\n",
    "\n",
    "    output_path = os.path.join(\"Ready\", f\"{road_name}_Summary_File.csv\")\n",
    "    os.makedirs(os.path.dirname(output_path), exist_ok=True)\n",
    "    df.to_csv(output_path, index=False)\n",
    "\n",
    "    print(f\"Saved summary for {road_name} to {output_path}\")\n"
   ]
  },
  {
   "cell_type": "code",
   "execution_count": null,
   "metadata": {},
   "outputs": [],
   "source": []
  },
  {
   "cell_type": "code",
   "execution_count": null,
   "metadata": {},
   "outputs": [],
   "source": []
  }
 ],
 "metadata": {
  "kernelspec": {
   "display_name": "dll",
   "language": "python",
   "name": "python3"
  },
  "language_info": {
   "codemirror_mode": {
    "name": "ipython",
    "version": 3
   },
   "file_extension": ".py",
   "mimetype": "text/x-python",
   "name": "python",
   "nbconvert_exporter": "python",
   "pygments_lexer": "ipython3",
   "version": "3.12.4"
  }
 },
 "nbformat": 4,
 "nbformat_minor": 2
}
