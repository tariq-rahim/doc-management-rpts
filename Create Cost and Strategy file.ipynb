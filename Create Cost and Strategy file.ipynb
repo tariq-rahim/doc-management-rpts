{
 "cells": [
  {
   "cell_type": "code",
   "execution_count": null,
   "metadata": {},
   "outputs": [],
   "source": [
    "import pandas as pd\n",
    "import os"
   ]
  },
  {
   "cell_type": "code",
   "execution_count": null,
   "metadata": {},
   "outputs": [],
   "source": [
    "def Create_Cost_and_Strategy_file(Cost_file_path,new_dir):\n",
    "    cost_xls = pd.ExcelFile(Cost_file_path)\n",
    "    sheets_list = cost_xls.sheet_names\n",
    "\n",
    "    if not os.path.exists(new_dir):\n",
    "        os.makedirs(new_dir)\n",
    "\n",
    "    for sheet in sheets_list:\n",
    "        cost_df = pd.read_excel(Cost_file_path, sheet_name=sheet, header=2)\n",
    "        cost_df_header0 = pd.read_excel(Cost_file_path, sheet_name=sheet, header=0)\n",
    "        \n",
    "        rd_name_inFile = cost_df_header0.columns[0]\n",
    "        S_no = cost_df['S/No']\n",
    "        length_in_meters = cost_df['Length']\n",
    "\n",
    "        maintenance_strategy = cost_df['Maintenance Strategy'].ffill()\n",
    "        unit_cost = cost_df['Unit Cost'].ffill().apply(lambda x: round(x, 2))\n",
    "        \n",
    "        # if not 'Maintenance Strategy' in maintenance_strategy:\n",
    "        #     print(rd_name_inFile)\n",
    "\n",
    "        df = pd.DataFrame({\n",
    "            'S/No': S_no,\n",
    "            'Length': length_in_meters,\n",
    "            'Maintenance Strategy': maintenance_strategy,\n",
    "            'Unit Cost': unit_cost\n",
    "        })\n",
    "        \n",
    "        total_index = df[df['S/No'] == 'Total'].index\n",
    "\n",
    "        if not total_index.empty:\n",
    "            last_valid_index = total_index[0]\n",
    "            filtered_df = df.loc[:last_valid_index-1]\n",
    "        else:\n",
    "            filtered_df = df\n",
    "\n",
    "        filename = os.path.join(new_dir, f\"{rd_name_inFile}.csv\")\n",
    "        filtered_df.to_csv(filename, index=False)\n",
    "        print(f\">>>> {filename}\")\n",
    "    print(\"************* DONE *************\")"
   ]
  },
  {
   "cell_type": "code",
   "execution_count": null,
   "metadata": {},
   "outputs": [],
   "source": [
    "Cost_file_path = 'Cost and strategies.xlsx'\n",
    "create_new_fldr = 'Newly created files'\n",
    "Create_Cost_and_Strategy_file(Cost_file_path,create_new_fldr)"
   ]
  }
 ],
 "metadata": {
  "kernelspec": {
   "display_name": "dle",
   "language": "python",
   "name": "python3"
  },
  "language_info": {
   "codemirror_mode": {
    "name": "ipython",
    "version": 3
   },
   "file_extension": ".py",
   "mimetype": "text/x-python",
   "name": "python",
   "nbconvert_exporter": "python",
   "pygments_lexer": "ipython3",
   "version": "3.12.4"
  }
 },
 "nbformat": 4,
 "nbformat_minor": 2
}
