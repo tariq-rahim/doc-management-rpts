{
 "cells": [
  {
   "cell_type": "code",
   "execution_count": 1,
   "metadata": {},
   "outputs": [],
   "source": [
    "import pandas as pd\n",
    "import os,glob"
   ]
  },
  {
   "cell_type": "code",
   "execution_count": 2,
   "metadata": {},
   "outputs": [
    {
     "name": "stdout",
     "output_type": "stream",
     "text": [
      ">>>> Newly created files\\Jhoke Ramzan to That Solan.csv\n",
      ">>>> Newly created files\\Ramak to polowan to basti Shekhain wali (Follow Points).csv\n",
      ">>>> Newly created files\\Road from DG Khan road to Shah Hussain (Khana Shareef).csv\n",
      ">>>> Newly created files\\Road from Lunda Sharif  road to village Pahore Buchri to New Buchri upto Lunda Sharif.csv\n",
      ">>>> Newly created files\\Road From Multan road to Chah Malana & Roshan.csv\n",
      ">>>> Newly created files\\Rorra Bridge to Distry 14.csv\n",
      ">>>> Newly created files\\Road from DG Khan road to Jhoke khallar.csv\n",
      ">>>> Newly created files\\From Main N-55 to CRBC Canal via Village Bhutesar And Amin.csv\n",
      ">>>> Newly created files\\Distry 15 to Jhoke Dadi.csv\n",
      ">>>> Newly created files\\From Indus Highway to Chirra Palad.csv\n",
      ">>>> Newly created files\\From Peer Ghoondi to Saifur ruhedar Shah koorona Khesarai Sharef Darazinda.csv\n",
      ">>>> Newly created files\\Paniala Chunda Road.csv\n",
      ">>>> Newly created files\\Paniala PaharPur Road.csv\n",
      ">>>> Newly created files\\Khan Gara N-50 To Gandi Essab.csv\n",
      ">>>> Newly created files\\Kori Hot To Gara Matt.csv\n",
      ">>>> Newly created files\\Kori Jamal To Talai Dudha Shah.csv\n",
      ">>>> Newly created files\\Main Dara Ban Choudwan Road To Shah Alam.csv\n",
      ">>>> Newly created files\\Parova Choudwan Road Link Talli Budha Shah.csv\n",
      ">>>> Newly created files\\Road from DG Khan road to Ghaunsar to Malekhi.csv\n",
      ">>>> Newly created files\\Road from Malan Village to Jhoke Kut Tahim, Jhoke Landhu, via Jhoke Jheda, Tarelly, New Dera .csv\n",
      ">>>> Newly created files\\Saiyid Alian kachi Katgarh Road.csv\n",
      ">>>> Newly created files\\Rangpur PahaPur Road.csv\n",
      ">>>> Newly created files\\Road From Giloti to Hathala via takwara.csv\n",
      ">>>> Newly created files\\From Indus Highway to Jhoke Khoja.csv\n",
      ">>>> Newly created files\\Giloti to Wanda Madad via Wanda Sher Khan & Jamal Road.csv\n",
      ">>>> Newly created files\\Paniala Abdul Khel Katta Khel Road Rehmani Khel.csv\n",
      ">>>> Newly created files\\Arra Road To gandi umerr khan (Kohawar To Shero Kohna).csv\n",
      ">>>> Newly created files\\From Khech Road To Mardan Pull Via Band Kurai.csv\n",
      ">>>> Newly created files\\Giloti Panil Road.csv\n",
      ">>>> Newly created files\\Bhakkar road To Basti Barseen.csv\n",
      ">>>> Newly created files\\Bhakkar road To Jhoke Basharat.csv\n",
      ">>>> Newly created files\\Chashma Road To Lakhra.csv\n",
      ">>>> Newly created files\\Saggu To Kuhawar.csv\n",
      ">>>> Newly created files\\From Main Daraban Road To Sheru Kohna.csv\n",
      ">>>> Newly created files\\Gerra Ahmad To Saggu.csv\n",
      ">>>> Newly created files\\Garra Issa Khan To Musa zai Shareef via Garra Mir Alam.csv\n",
      "************* DONE *************\n"
     ]
    }
   ],
   "source": [
    "Cost_file_path = 'Cost and strategies.xlsx'\n",
    "cost_xls = pd.ExcelFile(Cost_file_path)\n",
    "\n",
    "sheets_list = cost_xls.sheet_names\n",
    "\n",
    "new_folder = 'Newly created files'\n",
    "\n",
    "if not os.path.exists(new_folder):\n",
    "    os.makedirs(new_folder)\n",
    "\n",
    "for sheet in sheets_list:\n",
    "    cost_df = pd.read_excel(Cost_file_path, sheet_name=sheet, header=2)\n",
    "    cost_df_header0 = pd.read_excel(Cost_file_path, sheet_name=sheet, header=0)\n",
    "    \n",
    "    rd_name_inFile = cost_df_header0.columns[0]\n",
    "    S_no = cost_df['S/No']\n",
    "    length_in_meters = cost_df['Length']\n",
    "\n",
    "    maintenance_strategy = cost_df['Maintenance Strategy'].ffill()\n",
    "    unit_cost = cost_df['Unit Cost'].ffill().apply(lambda x: round(x, 2))\n",
    "    \n",
    "    # if not 'Maintenance Strategy' in maintenance_strategy:\n",
    "    #     print(rd_name_inFile)\n",
    "\n",
    "    df = pd.DataFrame({\n",
    "        'S/No': S_no,\n",
    "        'Length': length_in_meters,\n",
    "        'Maintenance Strategy': maintenance_strategy,\n",
    "        'Unit Cost': unit_cost\n",
    "    })\n",
    "    \n",
    "    total_index = df[df['S/No'] == 'Total'].index\n",
    "    # print(total_index)\n",
    "    \n",
    "    if not total_index.empty:\n",
    "        last_valid_index = total_index[0]\n",
    "        filtered_df = df.loc[:last_valid_index-1]\n",
    "    else:\n",
    "        filtered_df = df\n",
    "\n",
    "    filename = os.path.join(new_folder, f\"{rd_name_inFile}.csv\")\n",
    "    filtered_df.to_csv(filename, index=False)\n",
    "    print(f\">>>> {filename}\")\n",
    "print(\"************* DONE *************\")"
   ]
  }
 ],
 "metadata": {
  "kernelspec": {
   "display_name": "dle",
   "language": "python",
   "name": "python3"
  },
  "language_info": {
   "codemirror_mode": {
    "name": "ipython",
    "version": 3
   },
   "file_extension": ".py",
   "mimetype": "text/x-python",
   "name": "python",
   "nbconvert_exporter": "python",
   "pygments_lexer": "ipython3",
   "version": "3.12.4"
  }
 },
 "nbformat": 4,
 "nbformat_minor": 2
}
